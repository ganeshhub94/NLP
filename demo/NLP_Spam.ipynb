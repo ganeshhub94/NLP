{
 "cells": [
  {
   "cell_type": "code",
   "execution_count": 1,
   "metadata": {},
   "outputs": [],
   "source": [
    "import nltk"
   ]
  },
  {
   "cell_type": "code",
   "execution_count": 3,
   "metadata": {},
   "outputs": [],
   "source": [
    "import pandas as pd\n",
    "import numpy as np"
   ]
  },
  {
   "cell_type": "code",
   "execution_count": 22,
   "metadata": {},
   "outputs": [],
   "source": [
    "import matplotlib.pyplot as plt\n",
    "import seaborn as sns"
   ]
  },
  {
   "cell_type": "code",
   "execution_count": 23,
   "metadata": {},
   "outputs": [],
   "source": [
    "%matplotlib inline"
   ]
  },
  {
   "cell_type": "code",
   "execution_count": 2,
   "metadata": {},
   "outputs": [
    {
     "name": "stdout",
     "output_type": "stream",
     "text": [
      "NLTK Downloader\n",
      "---------------------------------------------------------------------------\n",
      "    d) Download   l) List    u) Update   c) Config   h) Help   q) Quit\n",
      "---------------------------------------------------------------------------\n",
      "Downloader> stopwords\n",
      "Command 'stopwords' unrecognized\n",
      "\n",
      "---------------------------------------------------------------------------\n",
      "    d) Download   l) List    u) Update   c) Config   h) Help   q) Quit\n",
      "---------------------------------------------------------------------------\n",
      "Downloader> stopword\n",
      "Command 'stopword' unrecognized\n",
      "\n",
      "---------------------------------------------------------------------------\n",
      "    d) Download   l) List    u) Update   c) Config   h) Help   q) Quit\n",
      "---------------------------------------------------------------------------\n",
      "Downloader> d\n",
      "\n",
      "Download which package (l=list; x=cancel)?\n",
      "  Identifier> stopwords\n"
     ]
    },
    {
     "name": "stderr",
     "output_type": "stream",
     "text": [
      "    Downloading package stopwords to C:\\Users\\ganesh\n",
      "        duke\\AppData\\Roaming\\nltk_data...\n",
      "      Unzipping corpora\\stopwords.zip.\n"
     ]
    },
    {
     "name": "stdout",
     "output_type": "stream",
     "text": [
      "\n",
      "---------------------------------------------------------------------------\n",
      "    d) Download   l) List    u) Update   c) Config   h) Help   q) Quit\n",
      "---------------------------------------------------------------------------\n",
      "Downloader> l\n",
      "\n",
      "Packages:\n",
      "  [ ] abc................. Australian Broadcasting Commission 2006\n",
      "  [ ] alpino.............. Alpino Dutch Treebank\n",
      "  [ ] averaged_perceptron_tagger Averaged Perceptron Tagger\n",
      "  [ ] averaged_perceptron_tagger_ru Averaged Perceptron Tagger (Russian)\n",
      "  [ ] basque_grammars..... Grammars for Basque\n",
      "  [ ] biocreative_ppi..... BioCreAtIvE (Critical Assessment of Information\n",
      "                           Extraction Systems in Biology)\n",
      "  [ ] bllip_wsj_no_aux.... BLLIP Parser: WSJ Model\n",
      "  [ ] book_grammars....... Grammars from NLTK Book\n",
      "  [ ] brown............... Brown Corpus\n",
      "  [ ] brown_tei........... Brown Corpus (TEI XML Version)\n",
      "  [ ] cess_cat............ CESS-CAT Treebank\n",
      "  [ ] cess_esp............ CESS-ESP Treebank\n",
      "  [ ] chat80.............. Chat-80 Data Files\n",
      "  [ ] city_database....... City Database\n",
      "  [ ] cmudict............. The Carnegie Mellon Pronouncing Dictionary (0.6)\n",
      "  [ ] comparative_sentences Comparative Sentence Dataset\n",
      "  [ ] comtrans............ ComTrans Corpus Sample\n",
      "  [ ] conll2000........... CONLL 2000 Chunking Corpus\n",
      "  [ ] conll2002........... CONLL 2002 Named Entity Recognition Corpus\n",
      "Hit Enter to continue: d\n",
      "  [ ] conll2007........... Dependency Treebanks from CoNLL 2007 (Catalan\n",
      "                           and Basque Subset)\n",
      "  [ ] crubadan............ Crubadan Corpus\n",
      "  [ ] dependency_treebank. Dependency Parsed Treebank\n",
      "  [ ] dolch............... Dolch Word List\n",
      "  [ ] europarl_raw........ Sample European Parliament Proceedings Parallel\n",
      "                           Corpus\n",
      "  [ ] floresta............ Portuguese Treebank\n",
      "  [ ] framenet_v15........ FrameNet 1.5\n",
      "  [ ] framenet_v17........ FrameNet 1.7\n",
      "  [ ] gazetteers.......... Gazeteer Lists\n",
      "  [ ] genesis............. Genesis Corpus\n",
      "  [ ] gutenberg........... Project Gutenberg Selections\n",
      "  [ ] ieer................ NIST IE-ER DATA SAMPLE\n",
      "  [ ] inaugural........... C-Span Inaugural Address Corpus\n",
      "  [ ] indian.............. Indian Language POS-Tagged Corpus\n",
      "  [ ] jeita............... JEITA Public Morphologically Tagged Corpus (in\n",
      "                           ChaSen format)\n",
      "  [ ] kimmo............... PC-KIMMO Data Files\n",
      "  [ ] knbc................ KNB Corpus (Annotated blog corpus)\n",
      "  [ ] large_grammars...... Large context-free and feature-based grammars\n",
      "                           for parser comparison\n",
      "Hit Enter to continue: \n",
      "  [ ] lin_thesaurus....... Lin's Dependency Thesaurus\n",
      "  [ ] mac_morpho.......... MAC-MORPHO: Brazilian Portuguese news text with\n",
      "                           part-of-speech tags\n",
      "  [ ] machado............. Machado de Assis -- Obra Completa\n",
      "  [ ] masc_tagged......... MASC Tagged Corpus\n",
      "  [ ] maxent_ne_chunker... ACE Named Entity Chunker (Maximum entropy)\n",
      "  [ ] maxent_treebank_pos_tagger Treebank Part of Speech Tagger (Maximum entropy)\n",
      "  [ ] moses_sample........ Moses Sample Models\n",
      "  [ ] movie_reviews....... Sentiment Polarity Dataset Version 2.0\n",
      "  [ ] mte_teip5........... MULTEXT-East 1984 annotated corpus 4.0\n",
      "  [ ] mwa_ppdb............ The monolingual word aligner (Sultan et al.\n",
      "                           2015) subset of the Paraphrase Database.\n",
      "  [ ] names............... Names Corpus, Version 1.3 (1994-03-29)\n",
      "  [ ] nombank.1.0......... NomBank Corpus 1.0\n",
      "  [ ] nonbreaking_prefixes Non-Breaking Prefixes (Moses Decoder)\n",
      "  [ ] nps_chat............ NPS Chat\n",
      "  [ ] omw................. Open Multilingual Wordnet\n",
      "  [ ] opinion_lexicon..... Opinion Lexicon\n",
      "  [ ] panlex_swadesh...... PanLex Swadesh Corpora\n",
      "  [ ] paradigms........... Paradigm Corpus\n",
      "  [ ] pe08................ Cross-Framework and Cross-Domain Parser\n",
      "                           Evaluation Shared Task\n",
      "Hit Enter to continue: l\n",
      "  [ ] perluniprops........ perluniprops: Index of Unicode Version 7.0.0\n",
      "                           character properties in Perl\n",
      "  [ ] pil................. The Patient Information Leaflet (PIL) Corpus\n",
      "  [ ] pl196x.............. Polish language of the XX century sixties\n",
      "  [ ] porter_test......... Porter Stemmer Test Files\n",
      "  [ ] ppattach............ Prepositional Phrase Attachment Corpus\n",
      "  [ ] problem_reports..... Problem Report Corpus\n",
      "  [ ] product_reviews_1... Product Reviews (5 Products)\n",
      "  [ ] product_reviews_2... Product Reviews (9 Products)\n",
      "  [ ] propbank............ Proposition Bank Corpus 1.0\n",
      "  [ ] pros_cons........... Pros and Cons\n",
      "  [ ] ptb................. Penn Treebank\n",
      "  [ ] punkt............... Punkt Tokenizer Models\n",
      "  [ ] qc.................. Experimental Data for Question Classification\n",
      "  [ ] reuters............. The Reuters-21578 benchmark corpus, ApteMod\n",
      "                           version\n",
      "  [ ] rslp................ RSLP Stemmer (Removedor de Sufixos da Lingua\n",
      "                           Portuguesa)\n",
      "  [ ] rte................. PASCAL RTE Challenges 1, 2, and 3\n",
      "  [ ] sample_grammars..... Sample Grammars\n",
      "  [ ] semcor.............. SemCor 3.0\n",
      "Hit Enter to continue: d\n",
      "  [ ] senseval............ SENSEVAL 2 Corpus: Sense Tagged Text\n",
      "  [ ] sentence_polarity... Sentence Polarity Dataset v1.0\n",
      "  [ ] sentiwordnet........ SentiWordNet\n",
      "  [ ] shakespeare......... Shakespeare XML Corpus Sample\n",
      "  [ ] sinica_treebank..... Sinica Treebank Corpus Sample\n",
      "  [ ] smultron............ SMULTRON Corpus Sample\n",
      "  [ ] snowball_data....... Snowball Data\n",
      "  [ ] spanish_grammars.... Grammars for Spanish\n",
      "  [ ] state_union......... C-Span State of the Union Address Corpus\n",
      "  [*] stopwords........... Stopwords Corpus\n",
      "  [ ] subjectivity........ Subjectivity Dataset v1.0\n",
      "  [ ] swadesh............. Swadesh Wordlists\n",
      "  [ ] switchboard......... Switchboard Corpus Sample\n",
      "  [ ] tagsets............. Help on Tagsets\n",
      "  [ ] timit............... TIMIT Corpus Sample\n",
      "  [ ] toolbox............. Toolbox Sample Files\n",
      "  [ ] treebank............ Penn Treebank Sample\n",
      "  [ ] twitter_samples..... Twitter Samples\n",
      "  [ ] udhr2............... Universal Declaration of Human Rights Corpus\n",
      "                           (Unicode Version)\n",
      "  [ ] udhr................ Universal Declaration of Human Rights Corpus\n",
      "Hit Enter to continue: q\n",
      "\n",
      "---------------------------------------------------------------------------\n",
      "    d) Download   l) List    u) Update   c) Config   h) Help   q) Quit\n",
      "---------------------------------------------------------------------------\n",
      "Downloader> d\n",
      "\n",
      "Download which package (l=list; x=cancel)?\n",
      "  Identifier> stopwords\n"
     ]
    },
    {
     "name": "stderr",
     "output_type": "stream",
     "text": [
      "    Downloading package stopwords to C:\\Users\\ganesh\n",
      "        duke\\AppData\\Roaming\\nltk_data...\n",
      "      Package stopwords is already up-to-date!\n"
     ]
    },
    {
     "name": "stdout",
     "output_type": "stream",
     "text": [
      "\n",
      "---------------------------------------------------------------------------\n",
      "    d) Download   l) List    u) Update   c) Config   h) Help   q) Quit\n",
      "---------------------------------------------------------------------------\n",
      "Downloader> q\n"
     ]
    }
   ],
   "source": [
    "# nltk.download_shell()"
   ]
  },
  {
   "cell_type": "code",
   "execution_count": 4,
   "metadata": {},
   "outputs": [],
   "source": [
    "df=pd.read_csv(\"spam.csv\",encoding=\"latin1\")"
   ]
  },
  {
   "cell_type": "code",
   "execution_count": 6,
   "metadata": {},
   "outputs": [
    {
     "data": {
      "text/html": [
       "<div>\n",
       "<style scoped>\n",
       "    .dataframe tbody tr th:only-of-type {\n",
       "        vertical-align: middle;\n",
       "    }\n",
       "\n",
       "    .dataframe tbody tr th {\n",
       "        vertical-align: top;\n",
       "    }\n",
       "\n",
       "    .dataframe thead th {\n",
       "        text-align: right;\n",
       "    }\n",
       "</style>\n",
       "<table border=\"1\" class=\"dataframe\">\n",
       "  <thead>\n",
       "    <tr style=\"text-align: right;\">\n",
       "      <th></th>\n",
       "      <th>v1</th>\n",
       "      <th>v2</th>\n",
       "      <th>Unnamed: 2</th>\n",
       "      <th>Unnamed: 3</th>\n",
       "      <th>Unnamed: 4</th>\n",
       "    </tr>\n",
       "  </thead>\n",
       "  <tbody>\n",
       "    <tr>\n",
       "      <th>0</th>\n",
       "      <td>ham</td>\n",
       "      <td>Go until jurong point, crazy.. Available only ...</td>\n",
       "      <td>NaN</td>\n",
       "      <td>NaN</td>\n",
       "      <td>NaN</td>\n",
       "    </tr>\n",
       "    <tr>\n",
       "      <th>1</th>\n",
       "      <td>ham</td>\n",
       "      <td>Ok lar... Joking wif u oni...</td>\n",
       "      <td>NaN</td>\n",
       "      <td>NaN</td>\n",
       "      <td>NaN</td>\n",
       "    </tr>\n",
       "    <tr>\n",
       "      <th>2</th>\n",
       "      <td>spam</td>\n",
       "      <td>Free entry in 2 a wkly comp to win FA Cup fina...</td>\n",
       "      <td>NaN</td>\n",
       "      <td>NaN</td>\n",
       "      <td>NaN</td>\n",
       "    </tr>\n",
       "    <tr>\n",
       "      <th>3</th>\n",
       "      <td>ham</td>\n",
       "      <td>U dun say so early hor... U c already then say...</td>\n",
       "      <td>NaN</td>\n",
       "      <td>NaN</td>\n",
       "      <td>NaN</td>\n",
       "    </tr>\n",
       "    <tr>\n",
       "      <th>4</th>\n",
       "      <td>ham</td>\n",
       "      <td>Nah I don't think he goes to usf, he lives aro...</td>\n",
       "      <td>NaN</td>\n",
       "      <td>NaN</td>\n",
       "      <td>NaN</td>\n",
       "    </tr>\n",
       "  </tbody>\n",
       "</table>\n",
       "</div>"
      ],
      "text/plain": [
       "     v1                                                 v2 Unnamed: 2  \\\n",
       "0   ham  Go until jurong point, crazy.. Available only ...        NaN   \n",
       "1   ham                      Ok lar... Joking wif u oni...        NaN   \n",
       "2  spam  Free entry in 2 a wkly comp to win FA Cup fina...        NaN   \n",
       "3   ham  U dun say so early hor... U c already then say...        NaN   \n",
       "4   ham  Nah I don't think he goes to usf, he lives aro...        NaN   \n",
       "\n",
       "  Unnamed: 3 Unnamed: 4  \n",
       "0        NaN        NaN  \n",
       "1        NaN        NaN  \n",
       "2        NaN        NaN  \n",
       "3        NaN        NaN  \n",
       "4        NaN        NaN  "
      ]
     },
     "execution_count": 6,
     "metadata": {},
     "output_type": "execute_result"
    }
   ],
   "source": [
    "df.head()"
   ]
  },
  {
   "cell_type": "code",
   "execution_count": 7,
   "metadata": {},
   "outputs": [
    {
     "data": {
      "text/plain": [
       "(5572, 5)"
      ]
     },
     "execution_count": 7,
     "metadata": {},
     "output_type": "execute_result"
    }
   ],
   "source": [
    "df.shape"
   ]
  },
  {
   "cell_type": "code",
   "execution_count": 9,
   "metadata": {},
   "outputs": [],
   "source": [
    "df.drop(columns=[\"Unnamed: 2\",'Unnamed: 3','Unnamed: 4'],inplace=True)"
   ]
  },
  {
   "cell_type": "code",
   "execution_count": 17,
   "metadata": {},
   "outputs": [],
   "source": [
    "df.rename(columns={\"v1\":\"label\",\"v2\":\"messages\"},inplace=True)"
   ]
  },
  {
   "cell_type": "markdown",
   "metadata": {},
   "source": [
    "## EDA"
   ]
  },
  {
   "cell_type": "code",
   "execution_count": 18,
   "metadata": {},
   "outputs": [
    {
     "data": {
      "text/html": [
       "<div>\n",
       "<style scoped>\n",
       "    .dataframe tbody tr th:only-of-type {\n",
       "        vertical-align: middle;\n",
       "    }\n",
       "\n",
       "    .dataframe tbody tr th {\n",
       "        vertical-align: top;\n",
       "    }\n",
       "\n",
       "    .dataframe thead th {\n",
       "        text-align: right;\n",
       "    }\n",
       "</style>\n",
       "<table border=\"1\" class=\"dataframe\">\n",
       "  <thead>\n",
       "    <tr style=\"text-align: right;\">\n",
       "      <th></th>\n",
       "      <th>label</th>\n",
       "      <th>messages</th>\n",
       "    </tr>\n",
       "  </thead>\n",
       "  <tbody>\n",
       "    <tr>\n",
       "      <th>count</th>\n",
       "      <td>5572</td>\n",
       "      <td>5572</td>\n",
       "    </tr>\n",
       "    <tr>\n",
       "      <th>unique</th>\n",
       "      <td>2</td>\n",
       "      <td>5169</td>\n",
       "    </tr>\n",
       "    <tr>\n",
       "      <th>top</th>\n",
       "      <td>ham</td>\n",
       "      <td>Sorry, I'll call later</td>\n",
       "    </tr>\n",
       "    <tr>\n",
       "      <th>freq</th>\n",
       "      <td>4825</td>\n",
       "      <td>30</td>\n",
       "    </tr>\n",
       "  </tbody>\n",
       "</table>\n",
       "</div>"
      ],
      "text/plain": [
       "       label                messages\n",
       "count   5572                    5572\n",
       "unique     2                    5169\n",
       "top      ham  Sorry, I'll call later\n",
       "freq    4825                      30"
      ]
     },
     "execution_count": 18,
     "metadata": {},
     "output_type": "execute_result"
    }
   ],
   "source": [
    "df.describe()"
   ]
  },
  {
   "cell_type": "code",
   "execution_count": 21,
   "metadata": {},
   "outputs": [
    {
     "data": {
      "text/html": [
       "<div>\n",
       "<style scoped>\n",
       "    .dataframe tbody tr th:only-of-type {\n",
       "        vertical-align: middle;\n",
       "    }\n",
       "\n",
       "    .dataframe tbody tr th {\n",
       "        vertical-align: top;\n",
       "    }\n",
       "\n",
       "    .dataframe thead th {\n",
       "        text-align: right;\n",
       "    }\n",
       "</style>\n",
       "<table border=\"1\" class=\"dataframe\">\n",
       "  <thead>\n",
       "    <tr style=\"text-align: right;\">\n",
       "      <th></th>\n",
       "      <th>label</th>\n",
       "      <th>ham</th>\n",
       "      <th>spam</th>\n",
       "    </tr>\n",
       "  </thead>\n",
       "  <tbody>\n",
       "    <tr>\n",
       "      <th rowspan=\"4\" valign=\"top\">messages</th>\n",
       "      <th>count</th>\n",
       "      <td>4825</td>\n",
       "      <td>747</td>\n",
       "    </tr>\n",
       "    <tr>\n",
       "      <th>unique</th>\n",
       "      <td>4516</td>\n",
       "      <td>653</td>\n",
       "    </tr>\n",
       "    <tr>\n",
       "      <th>top</th>\n",
       "      <td>Sorry, I'll call later</td>\n",
       "      <td>Please call our customer service representativ...</td>\n",
       "    </tr>\n",
       "    <tr>\n",
       "      <th>freq</th>\n",
       "      <td>30</td>\n",
       "      <td>4</td>\n",
       "    </tr>\n",
       "  </tbody>\n",
       "</table>\n",
       "</div>"
      ],
      "text/plain": [
       "label                               ham  \\\n",
       "messages count                     4825   \n",
       "         unique                    4516   \n",
       "         top     Sorry, I'll call later   \n",
       "         freq                        30   \n",
       "\n",
       "label                                                         spam  \n",
       "messages count                                                 747  \n",
       "         unique                                                653  \n",
       "         top     Please call our customer service representativ...  \n",
       "         freq                                                    4  "
      ]
     },
     "execution_count": 21,
     "metadata": {},
     "output_type": "execute_result"
    }
   ],
   "source": [
    "df.groupby(\"label\").describe().T"
   ]
  },
  {
   "cell_type": "code",
   "execution_count": 24,
   "metadata": {},
   "outputs": [
    {
     "data": {
      "text/plain": [
       "<matplotlib.axes._subplots.AxesSubplot at 0x1f481d09ef0>"
      ]
     },
     "execution_count": 24,
     "metadata": {},
     "output_type": "execute_result"
    },
    {
     "data": {
      "image/png": "[encoded data removed]",
      "text/plain": [
       "<Figure size 432x288 with 1 Axes>"
      ]
     },
     "metadata": {
      "needs_background": "light"
     },
     "output_type": "display_data"
    }
   ],
   "source": [
    "sns.countplot(df.label)"
   ]
  },
  {
   "cell_type": "code",
   "execution_count": 28,
   "metadata": {},
   "outputs": [],
   "source": [
    "df[\"length\"]=(df[\"messages\"].apply(len))"
   ]
  },
  {
   "cell_type": "code",
   "execution_count": 29,
   "metadata": {},
   "outputs": [
    {
     "data": {
      "text/html": [
       "<div>\n",
       "<style scoped>\n",
       "    .dataframe tbody tr th:only-of-type {\n",
       "        vertical-align: middle;\n",
       "    }\n",
       "\n",
       "    .dataframe tbody tr th {\n",
       "        vertical-align: top;\n",
       "    }\n",
       "\n",
       "    .dataframe thead th {\n",
       "        text-align: right;\n",
       "    }\n",
       "</style>\n",
       "<table border=\"1\" class=\"dataframe\">\n",
       "  <thead>\n",
       "    <tr style=\"text-align: right;\">\n",
       "      <th></th>\n",
       "      <th>label</th>\n",
       "      <th>messages</th>\n",
       "      <th>length</th>\n",
       "    </tr>\n",
       "  </thead>\n",
       "  <tbody>\n",
       "    <tr>\n",
       "      <th>0</th>\n",
       "      <td>ham</td>\n",
       "      <td>Go until jurong point, crazy.. Available only ...</td>\n",
       "      <td>111</td>\n",
       "    </tr>\n",
       "    <tr>\n",
       "      <th>1</th>\n",
       "      <td>ham</td>\n",
       "      <td>Ok lar... Joking wif u oni...</td>\n",
       "      <td>29</td>\n",
       "    </tr>\n",
       "    <tr>\n",
       "      <th>2</th>\n",
       "      <td>spam</td>\n",
       "      <td>Free entry in 2 a wkly comp to win FA Cup fina...</td>\n",
       "      <td>155</td>\n",
       "    </tr>\n",
       "    <tr>\n",
       "      <th>3</th>\n",
       "      <td>ham</td>\n",
       "      <td>U dun say so early hor... U c already then say...</td>\n",
       "      <td>49</td>\n",
       "    </tr>\n",
       "    <tr>\n",
       "      <th>4</th>\n",
       "      <td>ham</td>\n",
       "      <td>Nah I don't think he goes to usf, he lives aro...</td>\n",
       "      <td>61</td>\n",
       "    </tr>\n",
       "  </tbody>\n",
       "</table>\n",
       "</div>"
      ],
      "text/plain": [
       "  label                                           messages  length\n",
       "0   ham  Go until jurong point, crazy.. Available only ...     111\n",
       "1   ham                      Ok lar... Joking wif u oni...      29\n",
       "2  spam  Free entry in 2 a wkly comp to win FA Cup fina...     155\n",
       "3   ham  U dun say so early hor... U c already then say...      49\n",
       "4   ham  Nah I don't think he goes to usf, he lives aro...      61"
      ]
     },
     "execution_count": 29,
     "metadata": {},
     "output_type": "execute_result"
    }
   ],
   "source": [
    "df.head()"
   ]
  },
  {
   "cell_type": "code",
   "execution_count": 35,
   "metadata": {},
   "outputs": [
    {
     "data": {
      "text/plain": [
       "<matplotlib.axes._subplots.AxesSubplot at 0x1f48bceec18>"
      ]
     },
     "execution_count": 35,
     "metadata": {},
     "output_type": "execute_result"
    },
    {
     "data": {
      "image/png": "[encoded data removed]",
      "text/plain": [
       "<Figure size 432x288 with 1 Axes>"
      ]
     },
     "metadata": {
      "needs_background": "light"
     },
     "output_type": "display_data"
    }
   ],
   "source": [
    "df[\"length\"].plot.hist(bins=150)"
   ]
  },
  {
   "cell_type": "code",
   "execution_count": 37,
   "metadata": {},
   "outputs": [
    {
     "data": {
      "text/plain": [
       "count    5572.000000\n",
       "mean       80.118808\n",
       "std        59.690841\n",
       "min         2.000000\n",
       "25%        36.000000\n",
       "50%        61.000000\n",
       "75%       121.000000\n",
       "max       910.000000\n",
       "Name: length, dtype: float64"
      ]
     },
     "execution_count": 37,
     "metadata": {},
     "output_type": "execute_result"
    }
   ],
   "source": [
    "df.length.describe()"
   ]
  },
  {
   "cell_type": "code",
   "execution_count": 40,
   "metadata": {},
   "outputs": [
    {
     "data": {
      "text/plain": [
       "\"For me the love should start with attraction.i should feel that I need her every time around me.she should be the first thing which comes in my thoughts.I would start the day and end it with her.she should be there every time I dream.love will be then when my every breath has her name.my life should happen around her.my life will be named to her.I would cry for her.will give all my happiness and take all her sorrows.I will be ready to fight with anyone for her.I will be in love when I will be doing the craziest things for her.love will be when I don't have to proove anyone that my girl is the most beautiful lady on the whole planet.I will always be singing praises for her.love will be when I start up making chicken curry and end up makiing sambar.life will be the most beautiful then.will get every morning and thank god for the day because she is with me.I would like to say a lot..will tell later..\""
      ]
     },
     "execution_count": 40,
     "metadata": {},
     "output_type": "execute_result"
    }
   ],
   "source": [
    "df[df[\"length\"]==910][\"messages\"].iloc[0]"
   ]
  },
  {
   "cell_type": "code",
   "execution_count": 49,
   "metadata": {},
   "outputs": [
    {
     "data": {
      "text/plain": [
       "array([<matplotlib.axes._subplots.AxesSubplot object at 0x000001F48CD52BE0>,\n",
       "       <matplotlib.axes._subplots.AxesSubplot object at 0x000001F48CDF5828>],\n",
       "      dtype=object)"
      ]
     },
     "execution_count": 49,
     "metadata": {},
     "output_type": "execute_result"
    },
    {
     "data": {
      "image/png": "[encoded data removed]",
      "text/plain": [
       "<Figure size 864x288 with 2 Axes>"
      ]
     },
     "metadata": {
      "needs_background": "light"
     },
     "output_type": "display_data"
    }
   ],
   "source": [
    "df.hist(column=\"length\",bins=50,by=\"label\",figsize=(12,4))"
   ]
  },
  {
   "cell_type": "markdown",
   "metadata": {},
   "source": [
    "## Remove Stopwords and punctuations"
   ]
  },
  {
   "cell_type": "code",
   "execution_count": 50,
   "metadata": {},
   "outputs": [],
   "source": [
    "import string"
   ]
  },
  {
   "cell_type": "code",
   "execution_count": 51,
   "metadata": {},
   "outputs": [
    {
     "data": {
      "text/plain": [
       "'!\"#$%&\\'()*+,-./:;<=>?@[\\\\]^_`{|}~'"
      ]
     },
     "execution_count": 51,
     "metadata": {},
     "output_type": "execute_result"
    }
   ],
   "source": [
    "string.punctuation"
   ]
  },
  {
   "cell_type": "code",
   "execution_count": 52,
   "metadata": {},
   "outputs": [],
   "source": [
    "s=\"!hellow #pyth)on\""
   ]
  },
  {
   "cell_type": "code",
   "execution_count": 55,
   "metadata": {},
   "outputs": [],
   "source": [
    "s1=[i for i in s if i not in string.punctuation]"
   ]
  },
  {
   "cell_type": "code",
   "execution_count": 58,
   "metadata": {},
   "outputs": [
    {
     "data": {
      "text/plain": [
       "'hellow python'"
      ]
     },
     "execution_count": 58,
     "metadata": {},
     "output_type": "execute_result"
    }
   ],
   "source": [
    "\"\".join(s1)"
   ]
  },
  {
   "cell_type": "code",
   "execution_count": 54,
   "metadata": {},
   "outputs": [],
   "source": [
    "from nltk.corpus import stopwords"
   ]
  },
  {
   "cell_type": "code",
   "execution_count": 59,
   "metadata": {},
   "outputs": [],
   "source": [
    "..."
   ]
  },
  {
   "cell_type": "code",
   "execution_count": 61,
   "metadata": {},
   "outputs": [
    {
     "data": {
      "text/plain": [
       "['hi', 'man']"
      ]
     },
     "execution_count": 61,
     "metadata": {},
     "output_type": "execute_result"
    }
   ],
   "source": [
    "[i for i in a.split() if i.lower() not in stopwords.words('english')]"
   ]
  },
  {
   "cell_type": "code",
   "execution_count": 72,
   "metadata": {},
   "outputs": [],
   "source": [
    "def text_proc(text):\n",
    "    nopunc=[i for i in text if i  not in string.punctuation]\n",
    "    nopunc1=\"\".join(nopunc)\n",
    "    return [j for j in nopunc1.split() if j.lower() not in stopwords.words('english')]"
   ]
  },
  {
   "cell_type": "code",
   "execution_count": 71,
   "metadata": {},
   "outputs": [
    {
     "data": {
      "text/plain": [
       "0    Go until jurong point, crazy.. Available only ...\n",
       "1                        Ok lar... Joking wif u oni...\n",
       "2    Free entry in 2 a wkly comp to win FA Cup fina...\n",
       "3    U dun say so early hor... U c already then say...\n",
       "4    Nah I don't think he goes to usf, he lives aro...\n",
       "Name: messages, dtype: object"
      ]
     },
     "execution_count": 71,
     "metadata": {},
     "output_type": "execute_result"
    }
   ],
   "source": [
    "df.messages.head()"
   ]
  },
  {
   "cell_type": "code",
   "execution_count": 73,
   "metadata": {},
   "outputs": [
    {
     "data": {
      "text/plain": [
       "0    [Go, jurong, point, crazy, Available, bugis, n...\n",
       "1                       [Ok, lar, Joking, wif, u, oni]\n",
       "2    [Free, entry, 2, wkly, comp, win, FA, Cup, fin...\n",
       "3        [U, dun, say, early, hor, U, c, already, say]\n",
       "4    [Nah, dont, think, goes, usf, lives, around, t...\n",
       "Name: messages, dtype: object"
      ]
     },
     "execution_count": 73,
     "metadata": {},
     "output_type": "execute_result"
    }
   ],
   "source": [
    "df.messages.head().apply(text_proc)"
   ]
  },
  {
   "cell_type": "markdown",
   "metadata": {},
   "source": [
    "## Bag of words"
   ]
  },
  {
   "cell_type": "code",
   "execution_count": 74,
   "metadata": {},
   "outputs": [],
   "source": [
    "from sklearn.feature_extraction.text import CountVectorizer"
   ]
  },
  {
   "cell_type": "code",
   "execution_count": 80,
   "metadata": {},
   "outputs": [],
   "source": [
    "cv=CountVectorizer(analyzer=text_proc)"
   ]
  },
  {
   "cell_type": "code",
   "execution_count": 81,
   "metadata": {},
   "outputs": [],
   "source": [
    "bow=cv.fit(df.messages)"
   ]
  },
  {
   "cell_type": "code",
   "execution_count": 82,
   "metadata": {},
   "outputs": [
    {
     "data": {
      "text/plain": [
       "{'Go': 2027,\n",
       " 'jurong': 7456,\n",
       " 'point': 8809,\n",
       " 'crazy': 5685,\n",
       " 'Available': 1096,\n",
       " 'bugis': 5136,\n",
       " 'n': 8231,\n",
       " 'great': 6846,\n",
       " 'world': 11043,\n",
       " 'la': 7567,\n",
       " 'e': 6131,\n",
       " 'buffet': 5135,\n",
       " 'Cine': 1461,\n",
       " 'got': 6815,\n",
       " 'amore': 4574,\n",
       " 'wat': 10845,\n",
       " 'Ok': 3012,\n",
       " 'lar': 7600,\n",
       " 'Joking': 2407,\n",
       " 'wif': 10952,\n",
       " 'u': 10582,\n",
       " 'oni': 8482,\n",
       " 'Free': 1909,\n",
       " 'entry': 6244,\n",
       " '2': 422,\n",
       " 'wkly': 11003,\n",
       " 'comp': 5535,\n",
       " 'win': 10964,\n",
       " 'FA': 1808,\n",
       " 'Cup': 1529,\n",
       " 'final': 6470,\n",
       " 'tkts': 10398,\n",
       " '21st': 442,\n",
       " 'May': 2754,\n",
       " '2005': 429,\n",
       " 'Text': 3882,\n",
       " '87121': 860,\n",
       " 'receive': 9143,\n",
       " 'questionstd': 9050,\n",
       " 'txt': 10570,\n",
       " 'rateTCs': 9091,\n",
       " 'apply': 4652,\n",
       " '08452810075over18s': 73,\n",
       " 'U': 3996,\n",
       " 'dun': 6118,\n",
       " 'say': 9445,\n",
       " 'early': 6136,\n",
       " 'hor': 7091,\n",
       " 'c': 5179,\n",
       " 'already': 4551,\n",
       " 'Nah': 2897,\n",
       " 'dont': 6038,\n",
       " 'think': 10320,\n",
       " 'goes': 6786,\n",
       " 'usf': 10681,\n",
       " 'lives': 7740,\n",
       " 'around': 4698,\n",
       " 'though': 10337,\n",
       " 'FreeMsg': 1911,\n",
       " 'Hey': 2183,\n",
       " 'darling': 5780,\n",
       " '3': 536,\n",
       " 'weeks': 10891,\n",
       " 'word': 11030,\n",
       " 'back': 4814,\n",
       " 'Id': 2304,\n",
       " 'like': 7698,\n",
       " 'fun': 6667,\n",
       " 'still': 9982,\n",
       " 'Tb': 3860,\n",
       " 'ok': 8459,\n",
       " 'XxX': 4301,\n",
       " 'std': 9962,\n",
       " 'chgs': 5384,\n",
       " 'send': 9531,\n",
       " 'å£150': 11255,\n",
       " 'rcv': 9100,\n",
       " 'Even': 1777,\n",
       " 'brother': 5111,\n",
       " 'speak': 9860,\n",
       " 'treat': 10513,\n",
       " 'aids': 4512,\n",
       " 'patent': 8653,\n",
       " 'per': 8688,\n",
       " 'request': 9247,\n",
       " 'Melle': 2764,\n",
       " 'Oru': 3046,\n",
       " 'Minnaminunginte': 2783,\n",
       " 'Nurungu': 2972,\n",
       " 'Vettam': 4095,\n",
       " 'set': 9554,\n",
       " 'callertune': 5210,\n",
       " 'Callers': 1399,\n",
       " 'Press': 3219,\n",
       " '9': 898,\n",
       " 'copy': 5632,\n",
       " 'friends': 6632,\n",
       " 'Callertune': 1400,\n",
       " 'WINNER': 4145,\n",
       " 'valued': 10708,\n",
       " 'network': 8301,\n",
       " 'customer': 5736,\n",
       " 'selected': 9518,\n",
       " 'receivea': 9144,\n",
       " 'å£900': 11296,\n",
       " 'prize': 8950,\n",
       " 'reward': 9304,\n",
       " 'claim': 5436,\n",
       " 'call': 5193,\n",
       " '09061701461': 219,\n",
       " 'Claim': 1463,\n",
       " 'code': 5491,\n",
       " 'KL341': 2433,\n",
       " 'Valid': 4086,\n",
       " '12': 325,\n",
       " 'hours': 7106,\n",
       " 'mobile': 8111,\n",
       " '11': 315,\n",
       " 'months': 8146,\n",
       " 'R': 3262,\n",
       " 'entitled': 6241,\n",
       " 'Update': 4054,\n",
       " 'latest': 7615,\n",
       " 'colour': 5511,\n",
       " 'mobiles': 8112,\n",
       " 'camera': 5222,\n",
       " 'Call': 1395,\n",
       " 'Mobile': 2802,\n",
       " 'Co': 1470,\n",
       " 'FREE': 1836,\n",
       " '08002986030': 58,\n",
       " 'Im': 2310,\n",
       " 'gonna': 6799,\n",
       " 'home': 7065,\n",
       " 'soon': 9820,\n",
       " 'want': 10825,\n",
       " 'talk': 10191,\n",
       " 'stuff': 10041,\n",
       " 'anymore': 4622,\n",
       " 'tonight': 10442,\n",
       " 'k': 7461,\n",
       " 'Ive': 2352,\n",
       " 'cried': 5699,\n",
       " 'enough': 6232,\n",
       " 'today': 10410,\n",
       " 'SIX': 3430,\n",
       " 'chances': 5328,\n",
       " 'CASH': 1333,\n",
       " '100': 294,\n",
       " '20000': 426,\n",
       " 'pounds': 8867,\n",
       " 'CSH11': 1384,\n",
       " '87575': 864,\n",
       " 'Cost': 1502,\n",
       " '150pday': 363,\n",
       " '6days': 752,\n",
       " '16': 381,\n",
       " 'TsandCs': 3976,\n",
       " 'Reply': 3353,\n",
       " 'HL': 2104,\n",
       " '4': 598,\n",
       " 'info': 7257,\n",
       " 'URGENT': 4017,\n",
       " '1': 292,\n",
       " 'week': 10886,\n",
       " 'membership': 8006,\n",
       " 'å£100000': 11249,\n",
       " 'Prize': 3224,\n",
       " 'Jackpot': 2378,\n",
       " 'Txt': 3990,\n",
       " 'CLAIM': 1358,\n",
       " '81010': 810,\n",
       " 'TC': 3781,\n",
       " 'wwwdbuknet': 11111,\n",
       " 'LCCLTD': 2505,\n",
       " 'POBOX': 3083,\n",
       " '4403LDNW1A7RW18': 619,\n",
       " 'searching': 9487,\n",
       " 'right': 9313,\n",
       " 'words': 11034,\n",
       " 'thank': 10280,\n",
       " 'breather': 5084,\n",
       " 'promise': 8984,\n",
       " 'wont': 11025,\n",
       " 'take': 10183,\n",
       " 'help': 6995,\n",
       " 'granted': 6838,\n",
       " 'fulfil': 6663,\n",
       " 'wonderful': 11022,\n",
       " 'blessing': 4993,\n",
       " 'times': 10378,\n",
       " 'DATE': 1546,\n",
       " 'SUNDAY': 3502,\n",
       " 'XXXMobileMovieClub': 4293,\n",
       " 'use': 10675,\n",
       " 'credit': 5690,\n",
       " 'click': 5457,\n",
       " 'WAP': 4125,\n",
       " 'link': 7716,\n",
       " 'next': 8314,\n",
       " 'message': 8029,\n",
       " 'httpwap': 7129,\n",
       " 'xxxmobilemovieclubcomnQJKGIGHJJGCBL': 11153,\n",
       " 'Oh': 3007,\n",
       " 'kim': 7518,\n",
       " 'watching': 10850,\n",
       " 'Eh': 1744,\n",
       " 'remember': 9210,\n",
       " 'spell': 9874,\n",
       " 'name': 8243,\n",
       " 'Yes': 4347,\n",
       " 'v': 10696,\n",
       " 'naughty': 8263,\n",
       " 'make': 7896,\n",
       " 'wet': 10920,\n",
       " 'Fine': 1882,\n",
       " 'thatåÕs': 10294,\n",
       " 'way': 10859,\n",
       " 'feel': 6430,\n",
       " 'ThatåÕs': 3894,\n",
       " 'gota': 6816,\n",
       " 'b': 4801,\n",
       " 'England': 1759,\n",
       " 'Macedonia': 2722,\n",
       " 'miss': 8086,\n",
       " 'goalsteam': 6779,\n",
       " 'news': 8309,\n",
       " 'ur': 10659,\n",
       " 'national': 8257,\n",
       " 'team': 10226,\n",
       " '87077': 859,\n",
       " 'eg': 6172,\n",
       " 'ENGLAND': 1703,\n",
       " 'TryWALES': 3970,\n",
       " 'SCOTLAND': 3397,\n",
       " '4txtÌ¼120': 667,\n",
       " 'POBOXox36504W45WQ': 3086,\n",
       " 'seriously': 9548,\n",
       " 'I\\x89Û÷m': 2356,\n",
       " 'going': 6791,\n",
       " 'try': 10539,\n",
       " 'ha': 6899,\n",
       " 'joking': 7435,\n",
       " 'Ì': 11239,\n",
       " 'pay': 8661,\n",
       " 'first': 6497,\n",
       " 'da': 5748,\n",
       " 'stock': 9986,\n",
       " 'comin': 5525,\n",
       " 'Aft': 1005,\n",
       " 'finish': 6483,\n",
       " 'lunch': 7843,\n",
       " 'go': 6773,\n",
       " 'str': 10006,\n",
       " 'lor': 7786,\n",
       " 'Ard': 1070,\n",
       " 'smth': 9770,\n",
       " 'Ffffffffff': 1873,\n",
       " 'Alright': 1039,\n",
       " 'meet': 7988,\n",
       " 'sooner': 9821,\n",
       " 'forced': 6568,\n",
       " 'eat': 6148,\n",
       " 'slice': 9725,\n",
       " 'really': 9125,\n",
       " 'hungry': 7154,\n",
       " 'tho': 10333,\n",
       " 'sucks': 10074,\n",
       " 'Mark': 2744,\n",
       " 'getting': 6741,\n",
       " 'worried': 11049,\n",
       " 'knows': 7543,\n",
       " 'sick': 9653,\n",
       " 'turn': 10556,\n",
       " 'pizza': 8761,\n",
       " 'Lol': 2601,\n",
       " 'always': 4563,\n",
       " 'convincing': 5619,\n",
       " 'catch': 5291,\n",
       " 'bus': 5155,\n",
       " 'frying': 6653,\n",
       " 'egg': 6174,\n",
       " 'tea': 10220,\n",
       " 'eating': 6151,\n",
       " 'moms': 8130,\n",
       " 'left': 7646,\n",
       " 'dinner': 5961,\n",
       " 'Love': 2614,\n",
       " 'amp': 4576,\n",
       " 'packing': 8585,\n",
       " 'car': 5249,\n",
       " 'Ill': 2308,\n",
       " 'let': 7667,\n",
       " 'know': 7539,\n",
       " 'theres': 10308,\n",
       " 'room': 9351,\n",
       " 'Ahhh': 1014,\n",
       " 'Work': 4268,\n",
       " 'vaguely': 10699,\n",
       " 'Wait': 4180,\n",
       " 'thats': 10292,\n",
       " 'clear': 5451,\n",
       " 'sure': 10125,\n",
       " 'sarcastic': 9427,\n",
       " 'x': 11140,\n",
       " 'doesnt': 6015,\n",
       " 'live': 7737,\n",
       " 'us': 10669,\n",
       " 'Yeah': 4338,\n",
       " 'apologetic': 4640,\n",
       " 'fallen': 6381,\n",
       " 'actin': 4431,\n",
       " 'spoilt': 9894,\n",
       " 'child': 5400,\n",
       " 'caught': 5295,\n",
       " 'Till': 3926,\n",
       " 'badly': 4819,\n",
       " 'cheers': 5367,\n",
       " 'K': 2424,\n",
       " 'tell': 10242,\n",
       " 'anything': 4628,\n",
       " 'fear': 6422,\n",
       " 'fainting': 6372,\n",
       " 'housework': 7110,\n",
       " 'Quick': 3257,\n",
       " 'cuppa': 5726,\n",
       " 'Thanks': 3887,\n",
       " 'subscription': 10064,\n",
       " 'Ringtone': 3363,\n",
       " 'UK': 4001,\n",
       " 'charged': 5340,\n",
       " 'å£5month': 11288,\n",
       " 'Please': 3176,\n",
       " 'confirm': 5577,\n",
       " 'replying': 9242,\n",
       " 'YES': 4310,\n",
       " 'reply': 9240,\n",
       " 'Yup': 4372,\n",
       " 'look': 7778,\n",
       " 'timings': 10384,\n",
       " 'msg': 8178,\n",
       " 'Xuhui': 4300,\n",
       " 'learn': 7635,\n",
       " '2nd': 519,\n",
       " 'may': 7961,\n",
       " 'lesson': 7665,\n",
       " '8am': 892,\n",
       " 'Oops': 3033,\n",
       " 'roommates': 9354,\n",
       " 'done': 6035,\n",
       " 'see': 9503,\n",
       " 'letter': 7669,\n",
       " 'B': 1105,\n",
       " 'Anything': 1056,\n",
       " 'decide': 5831,\n",
       " 'Hello': 2170,\n",
       " 'Hows': 2240,\n",
       " 'saturday': 9437,\n",
       " 'texting': 10271,\n",
       " 'youd': 11197,\n",
       " 'decided': 5832,\n",
       " 'tomo': 10431,\n",
       " 'im': 7210,\n",
       " 'trying': 10541,\n",
       " 'invite': 7313,\n",
       " 'Pls': 3178,\n",
       " 'ahead': 4504,\n",
       " 'watts': 10857,\n",
       " 'wanted': 10827,\n",
       " 'weekend': 10888,\n",
       " 'Abiola': 985,\n",
       " 'forget': 6574,\n",
       " 'need': 8281,\n",
       " 'crave': 5682,\n",
       " 'love': 7810,\n",
       " 'sweet': 10149,\n",
       " 'Arabian': 1068,\n",
       " 'steed': 9968,\n",
       " 'Mmmmmm': 2796,\n",
       " 'Yummy': 4369,\n",
       " '07732584351': 29,\n",
       " 'Rodger': 3369,\n",
       " 'Burns': 1309,\n",
       " 'MSG': 2708,\n",
       " 'tried': 10522,\n",
       " 'sms': 9765,\n",
       " 'free': 6612,\n",
       " 'nokia': 8348,\n",
       " 'camcorder': 5220,\n",
       " '08000930705': 54,\n",
       " 'delivery': 5866,\n",
       " 'tomorrow': 10434,\n",
       " 'SEEING': 3400,\n",
       " 'Great': 2055,\n",
       " 'hope': 7083,\n",
       " 'man': 7905,\n",
       " 'well': 10903,\n",
       " 'endowed': 6216,\n",
       " 'ltgt': 7835,\n",
       " 'inches': 7236,\n",
       " 'callsmessagesmissed': 5216,\n",
       " 'calls': 5215,\n",
       " 'Didnt': 1638,\n",
       " 'get': 6733,\n",
       " 'hep': 7004,\n",
       " 'immunisation': 7218,\n",
       " 'nigeria': 8321,\n",
       " 'Fair': 1861,\n",
       " 'hopefully': 7087,\n",
       " 'tyler': 10576,\n",
       " 'cant': 5238,\n",
       " 'could': 5654,\n",
       " 'maybe': 7963,\n",
       " 'ask': 4720,\n",
       " 'bit': 4971,\n",
       " 'stubborn': 10032,\n",
       " 'didnt': 5930,\n",
       " 'even': 6282,\n",
       " 'hospital': 7097,\n",
       " 'kept': 7494,\n",
       " 'telling': 10243,\n",
       " 'weak': 10863,\n",
       " 'sucker': 10072,\n",
       " 'Hospitals': 2232,\n",
       " 'suckers': 10073,\n",
       " 'thinked': 10322,\n",
       " 'First': 1886,\n",
       " 'time': 10374,\n",
       " 'saw': 9444,\n",
       " 'class': 5444,\n",
       " 'gram': 6832,\n",
       " 'usually': 10687,\n",
       " 'runs': 9386,\n",
       " 'half': 6911,\n",
       " 'eighth': 6181,\n",
       " 'smarter': 9747,\n",
       " 'gets': 6737,\n",
       " 'almost': 4547,\n",
       " 'whole': 10943,\n",
       " 'second': 9491,\n",
       " 'fyi': 6680,\n",
       " 'ride': 9312,\n",
       " 'morning': 8151,\n",
       " 'hes': 7015,\n",
       " 'crashing': 5681,\n",
       " 'place': 8762,\n",
       " 'Wow': 4275,\n",
       " 'never': 8304,\n",
       " 'realized': 9123,\n",
       " 'embarassed': 6201,\n",
       " 'accomodations': 4414,\n",
       " 'thought': 10338,\n",
       " 'liked': 7699,\n",
       " 'since': 9677,\n",
       " 'best': 4932,\n",
       " 'seemed': 9509,\n",
       " 'happy': 6942,\n",
       " 'cave': 5299,\n",
       " 'sorry': 9830,\n",
       " 'give': 6759,\n",
       " 'offered': 8439,\n",
       " 'embarassing': 6202,\n",
       " 'SMS': 3441,\n",
       " 'ac': 4400,\n",
       " 'Sptv': 3696,\n",
       " 'New': 2917,\n",
       " 'Jersey': 2397,\n",
       " 'Devils': 1632,\n",
       " 'Detroit': 1631,\n",
       " 'Red': 3333,\n",
       " 'Wings': 4246,\n",
       " 'play': 8776,\n",
       " 'Ice': 2302,\n",
       " 'Hockey': 2210,\n",
       " 'Correct': 1500,\n",
       " 'Incorrect': 2318,\n",
       " 'End': 1757,\n",
       " 'END': 1701,\n",
       " 'SPTV': 3473,\n",
       " 'Mallika': 2734,\n",
       " 'Sherawat': 3587,\n",
       " 'yesterday': 11178,\n",
       " 'Find': 1881,\n",
       " 'ltURLgt': 7834,\n",
       " 'Congrats': 1491,\n",
       " 'year': 11169,\n",
       " 'special': 9862,\n",
       " 'cinema': 5432,\n",
       " 'pass': 8642,\n",
       " '09061209465': 214,\n",
       " 'C': 1317,\n",
       " 'Suprman': 3755,\n",
       " 'V': 4071,\n",
       " 'Matrix3': 2751,\n",
       " 'StarWars3': 3705,\n",
       " 'etc': 6272,\n",
       " 'bx420ip45we': 5174,\n",
       " '150pm': 364,\n",
       " 'Dont': 1669,\n",
       " 'Sorry': 3669,\n",
       " 'later': 7613,\n",
       " 'meeting': 7990,\n",
       " 'Tell': 3871,\n",
       " 'reached': 9107,\n",
       " 'Yesgauti': 4350,\n",
       " 'sehwag': 9515,\n",
       " 'odi': 8434,\n",
       " 'series': 9546,\n",
       " 'pick': 8736,\n",
       " 'burger': 5147,\n",
       " 'move': 8165,\n",
       " 'Pain': 3121,\n",
       " 'killing': 7515,\n",
       " 'Ha': 2131,\n",
       " 'good': 6801,\n",
       " 'joke': 7430,\n",
       " 'Girls': 2022,\n",
       " 'situation': 9697,\n",
       " 'seekers': 9506,\n",
       " 'part': 8631,\n",
       " 'checking': 5364,\n",
       " 'IQ': 2288,\n",
       " 'took': 10450,\n",
       " 'forever': 6571,\n",
       " 'come': 5518,\n",
       " 'double': 6049,\n",
       " 'check': 5361,\n",
       " 'hair': 6908,\n",
       " 'dresser': 6076,\n",
       " 'said': 9403,\n",
       " 'wun': 11088,\n",
       " 'cut': 5739,\n",
       " 'short': 9619,\n",
       " 'nice': 8317,\n",
       " 'pleased': 8787,\n",
       " 'advise': 4469,\n",
       " 'following': 6552,\n",
       " 'recent': 9147,\n",
       " 'review': 9302,\n",
       " 'Mob': 2799,\n",
       " 'awarded': 4794,\n",
       " 'å£1500': 11256,\n",
       " 'Bonus': 1262,\n",
       " '09066364589': 263,\n",
       " 'Today': 3939,\n",
       " 'song': 9816,\n",
       " 'dedicated': 5841,\n",
       " 'day': 5797,\n",
       " 'dedicate': 5840,\n",
       " 'Send': 3557,\n",
       " 'valuable': 10705,\n",
       " 'frnds': 6641,\n",
       " 'rply': 9367,\n",
       " 'Urgent': 4061,\n",
       " 'UR': 4014,\n",
       " 'complimentary': 5552,\n",
       " 'trip': 10523,\n",
       " 'EuroDisinc': 1774,\n",
       " 'Trav': 3960,\n",
       " 'AcoEntry41': 994,\n",
       " 'å£1000': 11247,\n",
       " 'DIS': 1565,\n",
       " '186å£150moreFrmMob': 390,\n",
       " 'ShrAcomOrSglSuplt10': 3607,\n",
       " 'LS1': 2542,\n",
       " '3AJ': 569,\n",
       " 'hear': 6972,\n",
       " 'new': 8307,\n",
       " 'Divorce': 1654,\n",
       " 'Barbie': 1206,\n",
       " 'comes': 5522,\n",
       " 'Kens': 2451,\n",
       " 'plane': 8769,\n",
       " 'month': 8143,\n",
       " 'end': 6212,\n",
       " 'Wah': 4178,\n",
       " 'lucky': 7840,\n",
       " 'save': 9440,\n",
       " 'money': 8136,\n",
       " 'Hee': 2165,\n",
       " 'Finished': 1885,\n",
       " 'HI': 2100,\n",
       " 'BABE': 1109,\n",
       " 'IM': 2268,\n",
       " 'HOME': 2110,\n",
       " 'WANNA': 4122,\n",
       " 'SOMETHING': 3450,\n",
       " 'XX': 4290,\n",
       " 'Kkwhere': 2481,\n",
       " 'youhow': 11200,\n",
       " 'performed': 8695,\n",
       " 'waiting': 10804,\n",
       " 'machan': 7865,\n",
       " 'Thats': 3892,\n",
       " 'cool': 5625,\n",
       " 'gentleman': 6727,\n",
       " 'dignity': 5952,\n",
       " 'respect': 9268,\n",
       " 'peoples': 8687,\n",
       " 'much': 8194,\n",
       " 'shy': 9649,\n",
       " 'pa': 8580,\n",
       " 'operate': 8498,\n",
       " 'Still': 3717,\n",
       " 'looking': 7781,\n",
       " 'job': 7417,\n",
       " 'Tas': 3857,\n",
       " 'earn': 6137,\n",
       " 'ah': 4502,\n",
       " 'hi': 7022,\n",
       " 'stop': 9995,\n",
       " 'urgnt': 10664,\n",
       " 'real': 9117,\n",
       " 'yo': 11187,\n",
       " 'tickets': 10365,\n",
       " 'one': 8478,\n",
       " 'jacket': 7378,\n",
       " 'used': 10676,\n",
       " 'multis': 8202,\n",
       " 'started': 9943,\n",
       " 'requests': 9248,\n",
       " 'pain': 8592,\n",
       " 'came': 5221,\n",
       " 'bed': 4893,\n",
       " 'Double': 1675,\n",
       " 'coins': 5497,\n",
       " 'factory': 6364,\n",
       " 'gotta': 6819,\n",
       " 'cash': 5280,\n",
       " 'nitros': 8338,\n",
       " 'babe': 4806,\n",
       " 'Ela': 1747,\n",
       " 'kanoil': 7477,\n",
       " 'download': 6055,\n",
       " 'wen': 10908,\n",
       " 'Don\\x89Û÷t': 1672,\n",
       " 'stand': 9932,\n",
       " 'close': 5463,\n",
       " 'you\\x89Û÷ll': 11216,\n",
       " 'something': 9804,\n",
       " 'another': 4607,\n",
       " 'night': 8322,\n",
       " 'spent': 9879,\n",
       " 'late': 7608,\n",
       " 'afternoon': 4485,\n",
       " 'casualty': 5289,\n",
       " 'means': 7979,\n",
       " 'havent': 6957,\n",
       " 'stuff42moro': 10042,\n",
       " 'includes': 7239,\n",
       " 'sheets': 9589,\n",
       " 'Smile': 3647,\n",
       " 'Pleasure': 3177,\n",
       " 'trouble': 10528,\n",
       " 'pours': 8869,\n",
       " 'Rain': 3307,\n",
       " 'sum1': 10092,\n",
       " 'Hurts': 2250,\n",
       " 'becoz': 4891,\n",
       " 'SOMEONE': 3448,\n",
       " 'Loves': 2620,\n",
       " 'Smiling': 3649,\n",
       " 'service': 9551,\n",
       " 'representative': 9245,\n",
       " '0800': 50,\n",
       " '169': 383,\n",
       " '6031': 715,\n",
       " '10am9pm': 309,\n",
       " 'guaranteed': 6877,\n",
       " 'å£5000': 11283,\n",
       " 'Havent': 2156,\n",
       " 'planning': 8773,\n",
       " 'buy': 5166,\n",
       " 'lido': 7681,\n",
       " '530': 686,\n",
       " 'show': 9633,\n",
       " 'work': 11035,\n",
       " 'ringtone': 9320,\n",
       " 'collected': 5504,\n",
       " 'Simply': 3617,\n",
       " 'text': 10266,\n",
       " 'password': 8650,\n",
       " 'MIX': 2685,\n",
       " '85069': 845,\n",
       " 'verify': 10726,\n",
       " 'Get': 2014,\n",
       " 'Usher': 4066,\n",
       " 'Britney': 1295,\n",
       " 'FML': 1831,\n",
       " 'Watching': 4201,\n",
       " 'telugu': 10247,\n",
       " 'moviewat': 8170,\n",
       " 'abt': 4396,\n",
       " 'loads': 7748,\n",
       " 'loans': 7750,\n",
       " 'Hi': 2186,\n",
       " 'Wk': 4254,\n",
       " 'hols': 7063,\n",
       " 'run': 9383,\n",
       " 'Forgot': 1902,\n",
       " 'hairdressers': 6910,\n",
       " 'appointment': 4656,\n",
       " 'four': 6598,\n",
       " 'shower': 9635,\n",
       " 'beforehand': 4903,\n",
       " 'cause': 5296,\n",
       " 'prob': 8954,\n",
       " 'ham': 6915,\n",
       " 'nothing': 8373,\n",
       " 'else': 6196,\n",
       " 'Okay': 3013,\n",
       " 'price': 8930,\n",
       " 'long': 7774,\n",
       " 'legal': 7649,\n",
       " 'Wen': 4219,\n",
       " 'ave': 4782,\n",
       " 'ams': 4578,\n",
       " 'xx': 11150,\n",
       " 'gone': 6797,\n",
       " '4the': 665,\n",
       " 'driving': 6085,\n",
       " 'test': 10262,\n",
       " 'yet': 11179,\n",
       " 'wow': 11064,\n",
       " 'Youre': 4365,\n",
       " 'mean': 7975,\n",
       " 'guess': 6881,\n",
       " 'gave': 6710,\n",
       " 'boston': 5044,\n",
       " 'men': 8011,\n",
       " 'changed': 5330,\n",
       " 'search': 9486,\n",
       " 'location': 7753,\n",
       " 'nyc': 8412,\n",
       " 'Cuz': 1538,\n",
       " 'signin': 9663,\n",
       " 'page': 8588,\n",
       " 'says': 9449,\n",
       " 'Umma': 4036,\n",
       " 'life': 7684,\n",
       " 'vava': 10716,\n",
       " 'umma': 10595,\n",
       " 'lot': 7795,\n",
       " 'dear': 5818,\n",
       " 'wishes': 10984,\n",
       " 'birthday': 4969,\n",
       " 'making': 7900,\n",
       " 'truly': 10535,\n",
       " 'memorable': 8008,\n",
       " 'Aight': 1017,\n",
       " 'hit': 7041,\n",
       " 'would': 11060,\n",
       " 'ip': 7321,\n",
       " 'address': 4446,\n",
       " 'considering': 5594,\n",
       " 'computer': 5558,\n",
       " 'isnt': 7343,\n",
       " 'minecraft': 8065,\n",
       " 'server': 9550,\n",
       " 'Grumpy': 2059,\n",
       " 'old': 8472,\n",
       " 'people': 8686,\n",
       " 'mom': 8127,\n",
       " 'better': 4938,\n",
       " 'lying': 7856,\n",
       " 'jokes': 7432,\n",
       " 'worry': 11051,\n",
       " 'busy': 5161,\n",
       " 'plural': 8797,\n",
       " 'noun': 8380,\n",
       " 'research': 9254,\n",
       " 'Going': 2033,\n",
       " 'dinnermsg': 5962,\n",
       " 'cos': 5643,\n",
       " 'things': 10319,\n",
       " 'scared': 9455,\n",
       " 'mah': 7886,\n",
       " 'Cos': 1501,\n",
       " 'loud': 7805,\n",
       " 'GENT': 1947,\n",
       " 'contact': 5599,\n",
       " 'Last': 2560,\n",
       " 'weekends': 10889,\n",
       " 'draw': 6065,\n",
       " 'shows': 9640,\n",
       " 'GUARANTEED': 1989,\n",
       " '09064012160': 238,\n",
       " 'Code': 1472,\n",
       " 'K52': 2425,\n",
       " '12hrs': 337,\n",
       " '150ppm': 369,\n",
       " 'Wa': 4176,\n",
       " 'openin': 8495,\n",
       " 'sentence': 9540,\n",
       " 'formal': 6582,\n",
       " 'Anyway': 1058,\n",
       " 'fine': 6478,\n",
       " 'juz': 7460,\n",
       " 'tt': 10545,\n",
       " 'eatin': 6150,\n",
       " 'puttin': 9034,\n",
       " 'weightHaha': 10896,\n",
       " 'anythin': 4627,\n",
       " 'happened': 6934,\n",
       " 'entered': 6234,\n",
       " 'cabin': 5181,\n",
       " 'PA': 3052,\n",
       " 'Happy': 2148,\n",
       " 'Bday': 1213,\n",
       " 'Boss': 1270,\n",
       " 'felt': 6439,\n",
       " 'askd': 4721,\n",
       " 'invited': 7314,\n",
       " 'apartment': 4636,\n",
       " 'went': 10910,\n",
       " 'winner': 10974,\n",
       " 'specially': 9866,\n",
       " 'holiday': 7059,\n",
       " 'flights': 6522,\n",
       " 'inc': 7234,\n",
       " 'operator': 8499,\n",
       " '0871277810910pmin': 123,\n",
       " '18': 386,\n",
       " 'Goodo': 2042,\n",
       " 'must': 8219,\n",
       " 'friday': 6625,\n",
       " 'eggpotato': 6175,\n",
       " 'ratio': 9094,\n",
       " 'tortilla': 10467,\n",
       " 'needed': 8283,\n",
       " 'Hmmmy': 2207,\n",
       " 'uncle': 10600,\n",
       " 'informed': 7261,\n",
       " 'paying': 8665,\n",
       " 'school': 9461,\n",
       " 'directly': 5966,\n",
       " 'pls': 8793,\n",
       " 'food': 6558,\n",
       " 'PRIVATE': 3108,\n",
       " '2004': 428,\n",
       " 'Account': 990,\n",
       " 'Statement': 3710,\n",
       " '07742676969': 31,\n",
       " '786': 777,\n",
       " 'unredeemed': 10638,\n",
       " 'Points': 3192,\n",
       " '08719180248': 171,\n",
       " 'Identifier': 2306,\n",
       " '45239': 631,\n",
       " 'Expires': 1800,\n",
       " 'å£2000': 11268,\n",
       " 'Caller': 1398,\n",
       " '5903': 691,\n",
       " 'Landline': 2555,\n",
       " '09064019788': 244,\n",
       " 'BOX42WR29C': 1168,\n",
       " '150PPM': 354,\n",
       " 'applespairsall': 4650,\n",
       " 'malarky': 7902,\n",
       " 'Todays': 3940,\n",
       " 'Voda': 4104,\n",
       " 'numbers': 8403,\n",
       " 'ending': 6214,\n",
       " '7548': 772,\n",
       " '350': 559,\n",
       " 'award': 4793,\n",
       " 'match': 7942,\n",
       " 'please': 8786,\n",
       " '08712300220': 105,\n",
       " 'quoting': 9061,\n",
       " '4041': 603,\n",
       " 'standard': 9933,\n",
       " 'rates': 9092,\n",
       " 'app': 4644,\n",
       " 'sao': 9422,\n",
       " 'mu': 8193,\n",
       " 'ÌÏ': 11242,\n",
       " 'predict': 8897,\n",
       " 'Ìll': 11240,\n",
       " 'buying': 5169,\n",
       " 'Good': 2037,\n",
       " 'knowyetunde': 7546,\n",
       " 'hasnt': 6949,\n",
       " 'sent': 9539,\n",
       " 'bother': 5046,\n",
       " 'sending': 9532,\n",
       " 'involve': 7318,\n",
       " 'shouldnt': 9627,\n",
       " 'imposed': 7224,\n",
       " 'apologise': 4641,\n",
       " 'HEY': 2096,\n",
       " 'GIRL': 1953,\n",
       " 'HOPE': 2113,\n",
       " 'WELL': 4131,\n",
       " 'DEL': 1558,\n",
       " 'BAK': 1118,\n",
       " 'LONG': 2529,\n",
       " 'TIME': 3816,\n",
       " 'GIVE': 1956,\n",
       " 'CALL': 1321,\n",
       " 'SUM': 3499,\n",
       " 'LUCYxx': 2548,\n",
       " 'Kkhow': 2475,\n",
       " 'cost': 5645,\n",
       " 'Dear': 1609,\n",
       " 'Tmorrowpls': 3933,\n",
       " 'accomodate': 4413,\n",
       " 'answer': 4610,\n",
       " 'question': 9047,\n",
       " 'Sunshine': 3751,\n",
       " 'Quiz': 3259,\n",
       " 'Wkly': 4255,\n",
       " 'Q': 3245,\n",
       " 'Win': 4244,\n",
       " 'top': 10458,\n",
       " 'Sony': 3666,\n",
       " 'DVD': 1590,\n",
       " 'player': 8778,\n",
       " 'country': 5660,\n",
       " 'Algarve': 1033,\n",
       " 'ansr': 4609,\n",
       " '82277': 816,\n",
       " 'SPTyrone': 3474,\n",
       " 'Want': 4191,\n",
       " 'laid': 7580,\n",
       " 'Dogging': 1663,\n",
       " 'locations': 7754,\n",
       " 'direct': 5965,\n",
       " 'mob': 8110,\n",
       " 'Join': 2403,\n",
       " 'UKs': 4004,\n",
       " 'largest': 7602,\n",
       " 'Network': 2912,\n",
       " 'bt': 5125,\n",
       " 'Txting': 3993,\n",
       " 'GRAVEL': 1985,\n",
       " '69888': 741,\n",
       " 'Nt': 2969,\n",
       " 'ec2a': 6153,\n",
       " '31pmsg150p': 552,\n",
       " 'haf': 6904,\n",
       " 'msn': 8188,\n",
       " 'yijuehotmailcom': 11185,\n",
       " 'rooms': 9355,\n",
       " 'befor': 4902,\n",
       " 'activities': 4436,\n",
       " 'Youll': 4364,\n",
       " 'msgs': 8181,\n",
       " 'chat': 5352,\n",
       " 'svc': 10140,\n",
       " 'Hardcore': 2150,\n",
       " 'services': 9552,\n",
       " 'GO': 1960,\n",
       " '69988': 745,\n",
       " 'Age': 1011,\n",
       " 'Verify': 4094,\n",
       " 'yr': 11220,\n",
       " 'Got': 2047,\n",
       " 'lazy': 7629,\n",
       " 'type': 10578,\n",
       " 'forgot': 6579,\n",
       " 'lect': 7643,\n",
       " 'pouch': 8864,\n",
       " 'youre': 11208,\n",
       " 'Sir': 3624,\n",
       " 'Waiting': 4183,\n",
       " 'mail': 7889,\n",
       " 'swt': 10161,\n",
       " 'Nver': 2974,\n",
       " 'tired': 10387,\n",
       " 'little': 7736,\n",
       " 'lovable': 7809,\n",
       " 'persons': 8709,\n",
       " 'Cozsomtimes': 1510,\n",
       " 'occupy': 8428,\n",
       " 'biggest': 4953,\n",
       " 'Hearts': 2164,\n",
       " 'Gud': 2063,\n",
       " 'ni8': 8315,\n",
       " 'open': 8492,\n",
       " 'ya': 11158,\n",
       " 'dot': 6048,\n",
       " 'Whats': 4228,\n",
       " 'staff': 9923,\n",
       " 'taking': 10188,\n",
       " 'replied': 9238,\n",
       " 'Randy': 3314,\n",
       " 'sexy': 9566,\n",
       " 'female': 6440,\n",
       " 'local': 7752,\n",
       " 'Luv': 2633,\n",
       " 'Netcollex': 2911,\n",
       " 'Ltd': 2624,\n",
       " '08700621170150p': 75,\n",
       " 'Stop': 3719,\n",
       " 'Ummmawill': 4037,\n",
       " 'inour': 7277,\n",
       " 'begin': 4908,\n",
       " 'qatar': 9039,\n",
       " 'pray': 8891,\n",
       " ...}"
      ]
     },
     "execution_count": 82,
     "metadata": {},
     "output_type": "execute_result"
    }
   ],
   "source": [
    "bow.vocabulary_"
   ]
  },
  {
   "cell_type": "code",
   "execution_count": null,
   "metadata": {},
   "outputs": [],
   "source": []
  },
  {
   "cell_type": "code",
   "execution_count": 83,
   "metadata": {},
   "outputs": [
    {
     "data": {
      "text/plain": [
       "11304"
      ]
     },
     "execution_count": 83,
     "metadata": {},
     "output_type": "execute_result"
    }
   ],
   "source": [
    "len(bow.vocabulary_)"
   ]
  },
  {
   "cell_type": "code",
   "execution_count": 84,
   "metadata": {},
   "outputs": [],
   "source": [
    "mess4=df.messages[3]"
   ]
  },
  {
   "cell_type": "code",
   "execution_count": 85,
   "metadata": {},
   "outputs": [
    {
     "data": {
      "text/plain": [
       "'U dun say so early hor... U c already then say...'"
      ]
     },
     "execution_count": 85,
     "metadata": {},
     "output_type": "execute_result"
    }
   ],
   "source": [
    "mess4"
   ]
  },
  {
   "cell_type": "code",
   "execution_count": 88,
   "metadata": {},
   "outputs": [],
   "source": [
    "bow4=bow.transform([mess4])"
   ]
  },
  {
   "cell_type": "code",
   "execution_count": 90,
   "metadata": {},
   "outputs": [
    {
     "name": "stdout",
     "output_type": "stream",
     "text": [
      "  (0, 3996)\t2\n",
      "  (0, 4551)\t1\n",
      "  (0, 5179)\t1\n",
      "  (0, 6118)\t1\n",
      "  (0, 6136)\t1\n",
      "  (0, 7091)\t1\n",
      "  (0, 9445)\t2\n"
     ]
    }
   ],
   "source": [
    "print(bow4)"
   ]
  },
  {
   "cell_type": "code",
   "execution_count": 91,
   "metadata": {},
   "outputs": [
    {
     "data": {
      "text/plain": [
       "(1, 11304)"
      ]
     },
     "execution_count": 91,
     "metadata": {},
     "output_type": "execute_result"
    }
   ],
   "source": [
    "bow4.shape"
   ]
  },
  {
   "cell_type": "code",
   "execution_count": 97,
   "metadata": {},
   "outputs": [
    {
     "data": {
      "text/plain": [
       "'prob'"
      ]
     },
     "execution_count": 97,
     "metadata": {},
     "output_type": "execute_result"
    }
   ],
   "source": [
    "bow.get_feature_names()[8954]"
   ]
  },
  {
   "cell_type": "code",
   "execution_count": 98,
   "metadata": {},
   "outputs": [],
   "source": [
    "messages_bow=bow.transform(df['messages'])"
   ]
  },
  {
   "cell_type": "code",
   "execution_count": 99,
   "metadata": {},
   "outputs": [
    {
     "data": {
      "text/plain": [
       "(5572, 11304)"
      ]
     },
     "execution_count": 99,
     "metadata": {},
     "output_type": "execute_result"
    }
   ],
   "source": [
    "messages_bow.shape"
   ]
  },
  {
   "cell_type": "code",
   "execution_count": 102,
   "metadata": {},
   "outputs": [
    {
     "data": {
      "text/plain": [
       "array([[0, 0, 0, ..., 0, 0, 0],\n",
       "       [0, 0, 0, ..., 0, 0, 0],\n",
       "       [0, 0, 0, ..., 0, 0, 0],\n",
       "       ...,\n",
       "       [0, 0, 0, ..., 0, 0, 0],\n",
       "       [0, 0, 0, ..., 0, 0, 0],\n",
       "       [0, 0, 0, ..., 0, 0, 0]], dtype=int64)"
      ]
     },
     "execution_count": 102,
     "metadata": {},
     "output_type": "execute_result"
    }
   ],
   "source": [
    "messages_bow.toarray()"
   ]
  },
  {
   "cell_type": "markdown",
   "metadata": {},
   "source": [
    "## TF_IDF"
   ]
  },
  {
   "cell_type": "code",
   "execution_count": 103,
   "metadata": {},
   "outputs": [],
   "source": [
    "from sklearn.feature_extraction.text import TfidfTransformer"
   ]
  },
  {
   "cell_type": "code",
   "execution_count": 115,
   "metadata": {},
   "outputs": [],
   "source": [
    "tf=TfidfTransformer()"
   ]
  },
  {
   "cell_type": "code",
   "execution_count": 117,
   "metadata": {},
   "outputs": [
    {
     "data": {
      "text/plain": [
       "TfidfTransformer(norm='l2', smooth_idf=True, sublinear_tf=False, use_idf=True)"
      ]
     },
     "execution_count": 117,
     "metadata": {},
     "output_type": "execute_result"
    }
   ],
   "source": [
    "tf.fit(messages_bow)"
   ]
  },
  {
   "cell_type": "code",
   "execution_count": 113,
   "metadata": {},
   "outputs": [],
   "source": [
    "tf41=tf1.fit_transform(bow4)"
   ]
  },
  {
   "cell_type": "code",
   "execution_count": 114,
   "metadata": {},
   "outputs": [
    {
     "name": "stdout",
     "output_type": "stream",
     "text": [
      "  (0, 9445)\t0.5547001962252291\n",
      "  (0, 7091)\t0.2773500981126146\n",
      "  (0, 6136)\t0.2773500981126146\n",
      "  (0, 6118)\t0.2773500981126146\n",
      "  (0, 5179)\t0.2773500981126146\n",
      "  (0, 4551)\t0.2773500981126146\n",
      "  (0, 3996)\t0.5547001962252291\n"
     ]
    }
   ],
   "source": [
    "print(tf41)"
   ]
  },
  {
   "cell_type": "code",
   "execution_count": 118,
   "metadata": {},
   "outputs": [],
   "source": [
    "tf_mess=tf.transform(messages_bow)"
   ]
  },
  {
   "cell_type": "code",
   "execution_count": 120,
   "metadata": {},
   "outputs": [
    {
     "name": "stdout",
     "output_type": "stream",
     "text": [
      "  (0, 11043)\t0.2302307806673824\n",
      "  (0, 10845)\t0.19070440364977176\n",
      "  (0, 8809)\t0.24700781968848798\n",
      "  (0, 8231)\t0.17135863098645995\n",
      "  (0, 7567)\t0.263992475219973\n",
      "  (0, 7456)\t0.31248959807463006\n",
      "  (0, 6846)\t0.18344049775392818\n",
      "  (0, 6815)\t0.15156099829325625\n",
      "  (0, 6131)\t0.18912594285931972\n",
      "  (0, 5685)\t0.2498079760885523\n",
      "  (0, 5136)\t0.26866384122613163\n",
      "  (0, 5135)\t0.2983050989432094\n",
      "  (0, 4574)\t0.31248959807463006\n",
      "  (0, 2027)\t0.24200168290449323\n",
      "  (0, 1461)\t0.31248959807463006\n",
      "  (0, 1096)\t0.28824103664730155\n",
      "  (1, 10952)\t0.4005697292204744\n",
      "  (1, 10582)\t0.20689436953946386\n",
      "  (1, 8482)\t0.504282830397047\n",
      "  (1, 7600)\t0.37669696082530857\n",
      "  (1, 3012)\t0.29116619142344646\n",
      "  (1, 2407)\t0.5619244500186726\n",
      "  (2, 11003)\t0.1909725859033143\n",
      "  (2, 10964)\t0.15964606600812142\n",
      "  (2, 10570)\t0.1399031851067661\n",
      "  :\t:\n",
      "  (5568, 6791)\t0.31367469776242124\n",
      "  (5568, 6604)\t0.47781076401785183\n",
      "  (5568, 6267)\t0.5575721048646767\n",
      "  (5568, 4801)\t0.3853122086093004\n",
      "  (5569, 10087)\t0.520467167163554\n",
      "  (5569, 8147)\t0.4328299709057074\n",
      "  (5569, 3655)\t0.520467167163554\n",
      "  (5569, 3169)\t0.520467167163554\n",
      "  (5570, 10886)\t0.20433869276865432\n",
      "  (5570, 10669)\t0.228671085678155\n",
      "  (5570, 9804)\t0.22379509128305083\n",
      "  (5570, 8314)\t0.2265094778565237\n",
      "  (5570, 7698)\t0.17261961368438472\n",
      "  (5570, 7297)\t0.30713765248244235\n",
      "  (5570, 7190)\t0.267858170746944\n",
      "  (5570, 6892)\t0.26415555440138505\n",
      "  (5570, 6710)\t0.2941763581843664\n",
      "  (5570, 6612)\t0.20083119898301952\n",
      "  (5570, 6196)\t0.26076186336592394\n",
      "  (5570, 5169)\t0.30234379880988194\n",
      "  (5570, 4973)\t0.3635608230797119\n",
      "  (5570, 4430)\t0.3470581035941143\n",
      "  (5571, 10532)\t0.5423020375645663\n",
      "  (5571, 8243)\t0.48428640947198104\n",
      "  (5571, 3370)\t0.68656767594612\n"
     ]
    }
   ],
   "source": [
    "print(tf_mess)"
   ]
  },
  {
   "cell_type": "markdown",
   "metadata": {},
   "source": [
    "## Naive Bayes"
   ]
  },
  {
   "cell_type": "code",
   "execution_count": 121,
   "metadata": {},
   "outputs": [],
   "source": [
    "from sklearn.naive_bayes import MultinomialNB"
   ]
  },
  {
   "cell_type": "code",
   "execution_count": 122,
   "metadata": {},
   "outputs": [],
   "source": [
    "nb=MultinomialNB()"
   ]
  },
  {
   "cell_type": "code",
   "execution_count": 123,
   "metadata": {},
   "outputs": [
    {
     "data": {
      "text/plain": [
       "MultinomialNB(alpha=1.0, class_prior=None, fit_prior=True)"
      ]
     },
     "execution_count": 123,
     "metadata": {},
     "output_type": "execute_result"
    }
   ],
   "source": [
    "nb.fit(tf_mess,df['label'])"
   ]
  },
  {
   "cell_type": "code",
   "execution_count": 129,
   "metadata": {},
   "outputs": [
    {
     "name": "stdout",
     "output_type": "stream",
     "text": [
      "predicted:  ['ham']\n",
      "actual: ham\n"
     ]
    }
   ],
   "source": [
    "print(\"predicted: \",nb.predict(tf_mess[4]))\n",
    "print(\"actual:\",df['label'][4])"
   ]
  },
  {
   "cell_type": "code",
   "execution_count": 131,
   "metadata": {},
   "outputs": [],
   "source": [
    "predictions=nb.predict(tf_mess)"
   ]
  },
  {
   "cell_type": "code",
   "execution_count": 132,
   "metadata": {},
   "outputs": [
    {
     "data": {
      "text/plain": [
       "array(['ham', 'ham', 'spam', ..., 'ham', 'ham', 'ham'], dtype='<U4')"
      ]
     },
     "execution_count": 132,
     "metadata": {},
     "output_type": "execute_result"
    }
   ],
   "source": [
    "predictions"
   ]
  },
  {
   "cell_type": "code",
   "execution_count": 133,
   "metadata": {},
   "outputs": [],
   "source": [
    "from sklearn.metrics import accuracy_score"
   ]
  },
  {
   "cell_type": "code",
   "execution_count": 1,
   "metadata": {},
   "outputs": [
    {
     "ename": "NameError",
     "evalue": "name 'accuracy_score' is not defined",
     "output_type": "error",
     "traceback": [
      "\u001b[1;31m---------------------------------------------------------------------------\u001b[0m",
      "\u001b[1;31mNameError\u001b[0m                                 Traceback (most recent call last)",
      "\u001b[1;32m<ipython-input-1-eeb0c2a4d2be>\u001b[0m in \u001b[0;36m<module>\u001b[1;34m\u001b[0m\n\u001b[1;32m----> 1\u001b[1;33m \u001b[0mprint\u001b[0m\u001b[1;33m(\u001b[0m\u001b[1;34m\"accuracy :\"\u001b[0m\u001b[1;33m,\u001b[0m\u001b[0maccuracy_score\u001b[0m\u001b[1;33m(\u001b[0m\u001b[0mdf\u001b[0m\u001b[1;33m[\u001b[0m\u001b[1;34m'label'\u001b[0m\u001b[1;33m]\u001b[0m\u001b[1;33m,\u001b[0m\u001b[0mpredictions\u001b[0m\u001b[1;33m)\u001b[0m\u001b[1;33m)\u001b[0m\u001b[1;33m\u001b[0m\u001b[1;33m\u001b[0m\u001b[0m\n\u001b[0m",
      "\u001b[1;31mNameError\u001b[0m: name 'accuracy_score' is not defined"
     ]
    }
   ],
   "source": [
    "print(\"accuracy :\",accuracy_score(df['label'],predictions))"
   ]
  },
  {
   "cell_type": "code",
   "execution_count": null,
   "metadata": {},
   "outputs": [],
   "source": []
  }
 ],
 "metadata": {
  "kernelspec": {
   "display_name": "Python 3",
   "language": "python",
   "name": "python3"
  },
  "language_info": {
   "codemirror_mode": {
    "name": "ipython",
    "version": 3
   },
   "file_extension": ".py",
   "mimetype": "text/x-python",
   "name": "python",
   "nbconvert_exporter": "python",
   "pygments_lexer": "ipython3",
   "version": "3.7.3"
  }
 },
 "nbformat": 4,
 "nbformat_minor": 2
}
